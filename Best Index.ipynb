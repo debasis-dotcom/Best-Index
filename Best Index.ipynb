{
 "cells": [
  {
   "cell_type": "code",
   "execution_count": 21,
   "metadata": {},
   "outputs": [
    {
     "name": "stdout",
     "output_type": "stream",
     "text": [
      "Enter number of elements : 6\n",
      "5\n",
      "8\n",
      "9\n",
      "1\n",
      "7\n",
      "3\n",
      "[5, 8, 9, 1, 7, 3]\n",
      "33\n",
      "18\n",
      "17\n",
      "11\n",
      "7\n",
      "3\n",
      "The best index is 0\n"
     ]
    }
   ],
   "source": [
    "def best_index(x):\n",
    "\n",
    "    w=[]\n",
    "    for i in x:\n",
    "\n",
    "        l=len(x[x.index(i):x.index(x[-1])])+1\n",
    "        k=l\n",
    "        for j in range(1,k+1):\n",
    "\n",
    "            l=l-j\n",
    "\n",
    "            if l==0:\n",
    "                a=j\n",
    "                break\n",
    "\n",
    "            elif l<0:\n",
    "                a=j-1\n",
    "                break\n",
    "\n",
    "            else:\n",
    "                continue\n",
    "\n",
    "        q=sum(list(range(1,a+1)))\n",
    "        s=sum(x[x.index(i):(x.index(i)+q)])\n",
    "        print(s)\n",
    "        w.append(s)\n",
    "\n",
    "    print(\"The best index is {}\".format(abs(w.index(max(w)))))\n",
    "\n",
    "\n",
    "lst = []\n",
    "n = int(input(\"Enter number of elements : \"))\n",
    "\n",
    "for i in range(0, n):\n",
    "    ele = int(input(\"\"))\n",
    "\n",
    "    lst.append(ele)\n",
    "\n",
    "x=lst\n",
    "print(x)\n",
    "\n",
    "best_index(x)"
   ]
  },
  {
   "cell_type": "code",
   "execution_count": null,
   "metadata": {},
   "outputs": [],
   "source": []
  }
 ],
 "metadata": {
  "kernelspec": {
   "display_name": "Python 3",
   "language": "python",
   "name": "python3"
  },
  "language_info": {
   "codemirror_mode": {
    "name": "ipython",
    "version": 3
   },
   "file_extension": ".py",
   "mimetype": "text/x-python",
   "name": "python",
   "nbconvert_exporter": "python",
   "pygments_lexer": "ipython3",
   "version": "3.7.3"
  }
 },
 "nbformat": 4,
 "nbformat_minor": 2
}
